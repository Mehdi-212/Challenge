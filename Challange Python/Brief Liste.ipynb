{
 "cells": [
  {
   "cell_type": "code",
   "execution_count": 18,
   "id": "84c5d13b",
   "metadata": {},
   "outputs": [
    {
     "name": "stdout",
     "output_type": "stream",
     "text": [
      "[518369, 573707, 205828, 518345, 326345, 146342, 389272, 578128, 343793, 257852, 213742, 673896, 360978, 638043, 163938, 542496, 646012, 198462, 455041, 513160, 307810, 350749, 592644, 450961, 370314, 162448, 157254, 348801, 670103, 391763, 427772, 465204, 140210, 271975, 467852, 408640, 684106, 487676, 479239, 567840, 206912, 390516, 577480, 351392, 549586, 584288, 442338, 307821, 486301, 486140, 346761, 642776, 293825, 502021, 584024, 320324, 210580, 460109]\n"
     ]
    }
   ],
   "source": [
    "#import la librairie\n",
    "import random\n",
    "\n",
    "# Crée de la liste\n",
    "\n",
    "list = []\n",
    "for M in range (58):#lui dire qu'il ya 58 maisons\n",
    "    list.append(random.randint(125000,700000))# prend des valeurs aleatoires entre 1250000 et 700000\n",
    "print(list)\n"
   ]
  },
  {
   "cell_type": "code",
   "execution_count": 43,
   "id": "6015aecc",
   "metadata": {},
   "outputs": [
    {
     "name": "stdout",
     "output_type": "stream",
     "text": [
      "il ya  45 maisons ont un prix supérieur ou égal à 300 000 euros\n",
      "il ya  17 maisons ont un prix compris entre 250 000 et 400 000 euros\n",
      "il ya  52  maisons ont un prix qui n’est pas supérieur à 600 000 euros\n",
      "il ya  3 maisons ont un prix inférieur à 150 000 euros ou supérieur à 650 000 euros \n"
     ]
    }
   ],
   "source": [
    "#creation d'un boucle pour repondre au question et ne pas devoir ce repeté\n",
    "price= 0\n",
    "price2= 0\n",
    "price3= 0\n",
    "price4= 0\n",
    "\n",
    "for i in list:\n",
    "    if  i > 300000:\n",
    "        price+=1 # ajoute toutes les maisons a plus de 300k dans price\n",
    "    if  250000 <i< 400000:\n",
    "        price2+=1 # ajoute si prix compris entre 250k et 400k\n",
    "    if  i <600000:\n",
    "        price3+=1 # ajoute si prix inférieur a 600k\n",
    "    if  150000 <i> 650000:\n",
    "        price4+=1# ajoute si prix inferieur a 250k et superieur a 650k\n",
    "print(\"il ya \",str(price), \"maisons ont un prix supérieur ou égal à 300 000 euros\")\n",
    "print(\"il ya \",str(price2),\"maisons ont un prix compris entre 250 000 et 400 000 euros\")\n",
    "print(\"il ya \",str(price3),\" maisons ont un prix qui n’est pas supérieur à 600 000 euros\")\n",
    "print(\"il ya \",str(price4),\"maisons ont un prix inférieur à 150 000 euros ou supérieur à 650 000 euros \")\n",
    "\n"
   ]
  },
  {
   "cell_type": "code",
   "execution_count": null,
   "id": "05bf51ab",
   "metadata": {},
   "outputs": [],
   "source": []
  }
 ],
 "metadata": {
  "kernelspec": {
   "display_name": "Python 3 (ipykernel)",
   "language": "python",
   "name": "python3"
  },
  "language_info": {
   "codemirror_mode": {
    "name": "ipython",
    "version": 3
   },
   "file_extension": ".py",
   "mimetype": "text/x-python",
   "name": "python",
   "nbconvert_exporter": "python",
   "pygments_lexer": "ipython3",
   "version": "3.9.12"
  }
 },
 "nbformat": 4,
 "nbformat_minor": 5
}
