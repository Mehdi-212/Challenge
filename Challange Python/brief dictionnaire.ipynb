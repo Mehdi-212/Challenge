{
 "cells": [
  {
   "cell_type": "code",
   "execution_count": 3,
   "id": "241399a2",
   "metadata": {},
   "outputs": [
    {
     "data": {
      "text/plain": [
       "{'Marie': 15,\n",
       " 'Samuel': 17,\n",
       " 'Gaston': 12,\n",
       " 'Fred': 10,\n",
       " 'Mae': 5,\n",
       " 'Julie': 15,\n",
       " 'Zoe': 7,\n",
       " 'Claire': 20,\n",
       " 'Chloe': 8,\n",
       " 'Julien': 14,\n",
       " 'Gael': 9,\n",
       " 'Samia': 15,\n",
       " 'Omar': 11,\n",
       " 'Gabriel': 16,\n",
       " 'Manon': 2}"
      ]
     },
     "execution_count": 3,
     "metadata": {},
     "output_type": "execute_result"
    }
   ],
   "source": [
    "#Question 1\n",
    "from statistics import mean\n",
    "import pandas as pd\n",
    "\n",
    "#creation du dictionnaire\n",
    "\n",
    "ventes_commerciaux = {\"Marie\":15, \"Samuel\":17,  \"Gaston\":12,  \"Fred\":10, \"Mae\":5,  \"Julie\":15, \"Zoe\":7, \"Claire\":20,\n",
    "                      \"Chloe\":8,\"Julien\":14,\"Gael\":9, \"Samia\":15, \"Omar\":11, \"Gabriel\":16, \"Manon\": 2}\n",
    "ventes_commerciaux"
   ]
  },
  {
   "cell_type": "code",
   "execution_count": 4,
   "id": "412b3fd5",
   "metadata": {
    "scrolled": true
   },
   "outputs": [
    {
     "name": "stdout",
     "output_type": "stream",
     "text": [
      "La moyenne est de : 11.733333333333333\n"
     ]
    }
   ],
   "source": [
    "#Question 2\n",
    "# calcule de la moyenne\n",
    "\n",
    "ventes_commerciaux.values()\n",
    "M = sum(ventes_commerciaux.values())/len(ventes_commerciaux.values())\n",
    "print(\"La moyenne est de : \" + str(M))"
   ]
  },
  {
   "cell_type": "code",
   "execution_count": 5,
   "id": "50cceed4",
   "metadata": {},
   "outputs": [
    {
     "name": "stdout",
     "output_type": "stream",
     "text": [
      "le nombre total de vendeurs est 15\n"
     ]
    }
   ],
   "source": [
    "#Question 3\n",
    "#nombre de vendeurs\n",
    "ventes_commerciaux.keys()\n",
    "print (\"le nombre total de vendeurs est \" +str(len(ventes_commerciaux.keys())))"
   ]
  },
  {
   "cell_type": "code",
   "execution_count": 6,
   "id": "fa9ffe22",
   "metadata": {},
   "outputs": [
    {
     "name": "stdout",
     "output_type": "stream",
     "text": [
      "8\n"
     ]
    }
   ],
   "source": [
    "#Question 4\n",
    "#Nombre de commerciaux ayant les ventes au dessus de la moyenne\n",
    "p =0\n",
    "cm = ventes_commerciaux.items()\n",
    "for i in cm:\n",
    "    if i[1] > M:\n",
    "        p+=1     \n",
    "print(p)"
   ]
  },
  {
   "cell_type": "code",
   "execution_count": 7,
   "id": "28c751ab",
   "metadata": {},
   "outputs": [
    {
     "name": "stdout",
     "output_type": "stream",
     "text": [
      "Le meilleur vendeur est : Claire\n"
     ]
    }
   ],
   "source": [
    "#Question 5\n",
    "#trouve qui est le meilleur vendeur\n",
    "\n",
    "mv = max(ventes_commerciaux.values())\n",
    "for i in ventes_commerciaux:\n",
    "    if ventes_commerciaux[i] == mv:\n",
    "        print(\"Le meilleur vendeur est : \" +(i))"
   ]
  },
  {
   "cell_type": "code",
   "execution_count": 8,
   "id": "22daa473",
   "metadata": {},
   "outputs": [
    {
     "name": "stdout",
     "output_type": "stream",
     "text": [
      "Mae\n",
      "Zoe\n"
     ]
    }
   ],
   "source": [
    "#Question 6\n",
    "#prend les vendeur ayant moins de 4 lettres dans leur prenom\n",
    "for prenom in ventes_commerciaux:\n",
    "    if len(prenom) < 4:\n",
    "        print(prenom)"
   ]
  },
  {
   "cell_type": "code",
   "execution_count": 9,
   "id": "54695253",
   "metadata": {},
   "outputs": [
    {
     "name": "stdout",
     "output_type": "stream",
     "text": [
      "Gaston\n",
      "Fred\n",
      "Claire\n",
      "Chloe\n",
      "Julien\n",
      "Gabriel\n",
      "Manon\n"
     ]
    }
   ],
   "source": [
    "#Question 7\n",
    "#prend les Vendeurs ayant un nombre de ventes pair\n",
    "\n",
    "for i in ventes_commerciaux:\n",
    "    if ventes_commerciaux[i] % 2 == 0:\n",
    "        print((i))"
   ]
  },
  {
   "cell_type": "code",
   "execution_count": null,
   "id": "2b4a5251",
   "metadata": {},
   "outputs": [],
   "source": []
  }
 ],
 "metadata": {
  "kernelspec": {
   "display_name": "Python 3 (ipykernel)",
   "language": "python",
   "name": "python3"
  },
  "language_info": {
   "codemirror_mode": {
    "name": "ipython",
    "version": 3
   },
   "file_extension": ".py",
   "mimetype": "text/x-python",
   "name": "python",
   "nbconvert_exporter": "python",
   "pygments_lexer": "ipython3",
   "version": "3.9.12"
  }
 },
 "nbformat": 4,
 "nbformat_minor": 5
}
