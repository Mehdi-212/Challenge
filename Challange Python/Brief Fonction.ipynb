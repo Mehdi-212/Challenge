{
 "cells": [
  {
   "cell_type": "code",
   "execution_count": 1,
   "id": "928413f1",
   "metadata": {
    "scrolled": true
   },
   "outputs": [
    {
     "name": "stdout",
     "output_type": "stream",
     "text": [
      "La Moyenne est: 45\n"
     ]
    }
   ],
   "source": [
    "# création de la Liste et calcule de la moyenne\n",
    "\n",
    "list=[1,2,3,4,5,6,7,8,9]\n",
    "print(\"La Moyenne est: \" + str(sum(list)))"
   ]
  },
  {
   "cell_type": "code",
   "execution_count": 2,
   "id": "36ab2e39",
   "metadata": {},
   "outputs": [
    {
     "name": "stdout",
     "output_type": "stream",
     "text": [
      "La Mediane est: 5\n"
     ]
    }
   ],
   "source": [
    "#calcule de la mediane\n",
    "\n",
    "list = [1,2,3,4,5,6,7,8,9]\n",
    "n = len(list)#prend toute la longeur de la liste\n",
    "list.sort()#tri du plus petit au plus grand\n",
    "\n",
    "  \n",
    "if n % 2 == 0: # % signifie modulo(pair ou non)\n",
    "    med1 = list[n//2] # quotient(//) permet un resultat plus precis\n",
    "    med2 = list[n//2 - 1]\n",
    "    median = (med1 + med2)/2\n",
    "else:\n",
    "    median = list[n//2]\n",
    "print(\"La Mediane est: \" + str(median))"
   ]
  },
  {
   "cell_type": "code",
   "execution_count": 3,
   "id": "250c461a",
   "metadata": {},
   "outputs": [
    {
     "name": "stdout",
     "output_type": "stream",
     "text": [
      "l'écart carrés est 60\n",
      "la variance est 6.666666666666667\n",
      "l'ecart type est 2.581988897471611\n"
     ]
    }
   ],
   "source": [
    "#calcule de l'ecart carré , la variance et de l'ecart type\n",
    "list=[1,2,3,4,5,6,7,8,9]\n",
    "(sum(list)/9)\n",
    "ecart=(1-5)**2+(2-5)**2+(3-5)**2+(4-5)**2+(5-5)**2+(6-5)**2+(7-5)**2+(8-5)**2+(9-5)**2\n",
    "print(\"l'écart carrés est \" +str(ecart))\n",
    "ecartcarre=ecart/9\n",
    "print(\"la variance est \" +str(ecartcarre))\n",
    "print(\"l'ecart type est \" + str(pow(ecartcarre,0.5)))"
   ]
  },
  {
   "cell_type": "code",
   "execution_count": null,
   "id": "f2622e4a",
   "metadata": {},
   "outputs": [],
   "source": []
  }
 ],
 "metadata": {
  "kernelspec": {
   "display_name": "Python 3 (ipykernel)",
   "language": "python",
   "name": "python3"
  },
  "language_info": {
   "codemirror_mode": {
    "name": "ipython",
    "version": 3
   },
   "file_extension": ".py",
   "mimetype": "text/x-python",
   "name": "python",
   "nbconvert_exporter": "python",
   "pygments_lexer": "ipython3",
   "version": "3.9.12"
  }
 },
 "nbformat": 4,
 "nbformat_minor": 5
}
